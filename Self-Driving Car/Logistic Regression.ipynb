{
 "cells": [
  {
   "cell_type": "code",
   "execution_count": 69,
   "metadata": {
    "collapsed": false
   },
   "outputs": [
    {
     "data": {
      "image/png": "[encoded data removed]",
      "text/plain": [
       "<matplotlib.figure.Figure at 0x26fe78a83c8>"
      ]
     },
     "metadata": {},
     "output_type": "display_data"
    }
   ],
   "source": [
    "import numpy as np\n",
    "import matplotlib.pyplot as plt\n",
    "%matplotlib inline\n",
    "\n",
    "def draw(x1, x2):\n",
    "    ln = plt.plot(x1, x2)\n",
    "    plt.pause(0.0001)\n",
    "    ln[0].remove()\n",
    "    \n",
    "def sigmoid(score):\n",
    "    return 1/(1+np.exp(-score))\n",
    "\n",
    "def calculate_error(line_parameters, points, y):\n",
    "    m = points.shape[0]\n",
    "    p = sigmoid(points*line_parameters)\n",
    "    cross_entropy = -(1/m)*(np.log(p).T * y + np.log(1-p).T*(1-y))\n",
    "    return cross_entropy\n",
    "\n",
    "def gradient_descent(line_parameters, points, y, alpha):\n",
    "    m = points.shape[0]\n",
    "    for i in range(1000):\n",
    "        p = sigmoid(points*line_parameters)\n",
    "        gradient = points.T * (p - y) * (alpha/m)\n",
    "        line_parameters = line_parameters - gradient\n",
    "        w1 = line_parameters.item(0)\n",
    "        w2 = line_parameters.item(1)\n",
    "        b = line_parameters.item(2)\n",
    "        x1 = np.array([points[:, 0].min(), points[:, 0].max() ])\n",
    "        x2 = - b / w2 + x1 * (- w1 / w2)\n",
    "        draw(x1 , x2)\n",
    "\n",
    "n_pts = 100      # number of points for the dataset\n",
    "np.random.seed(0)  # Ensures random points are generated ever code launch\n",
    "\n",
    "# Setup the bias for our linear regression model\n",
    "bias = np.ones(n_pts)\n",
    "# Creating Random values for testing linear regresion\n",
    "top_region = np.array([np.random.normal(10, 2, n_pts), np.random.normal(12,2,n_pts), bias]).T\n",
    "bot_region = np.array([np.random.normal(5, 2, n_pts), np.random.normal(6,2,n_pts), bias]).T\n",
    "all_points = np.vstack((top_region, bot_region))\n",
    "\n",
    "\n",
    "line_parameters = np.matrix([np.zeros(3)]).T\n",
    "\n",
    "# Getting x1 and x2 based on the equation [w1x1 + w2x2 + b = 0]\n",
    "# x1 = np.array([bot_region[:, 0].min(), top_region[:, 0].max() ])\n",
    "# x2 = -b / w2 + x1 * (- w1 / w2)\n",
    "linear_combination = all_points*line_parameters\n",
    "probabilities = sigmoid(linear_combination)\n",
    "\n",
    "# Distinguish between top and Bottom Regions( 0 , 1)\n",
    "y = np.array([np.zeros(n_pts), np.ones(n_pts)]).reshape(n_pts*2, 1)\n",
    "\n",
    "\n",
    "# plotting the dataset values into a plot\n",
    "_, ax = plt.subplots(figsize=(4,4))\n",
    "ax.scatter(top_region[:, 0], top_region[:, 1], color = 'r')\n",
    "ax.scatter(bot_region[:, 0], bot_region[:, 1], color='b')\n",
    "gradient_descent(line_parameters, all_points, y, 0.06)\n",
    "plt.show()"
   ]
  },
  {
   "cell_type": "code",
   "execution_count": 68,
   "metadata": {
    "collapsed": false
   },
   "outputs": [
    {
     "name": "stdout",
     "output_type": "stream",
     "text": [
      "[[0.69314718]]\n"
     ]
    }
   ],
   "source": [
    "print(calculate_error(line_parameters, all_points, y))"
   ]
  },
  {
   "cell_type": "code",
   "execution_count": null,
   "metadata": {
    "collapsed": true
   },
   "outputs": [],
   "source": []
  }
 ],
 "metadata": {
  "anaconda-cloud": {},
  "kernelspec": {
   "display_name": "Python [default]",
   "language": "python",
   "name": "python3"
  },
  "language_info": {
   "codemirror_mode": {
    "name": "ipython",
    "version": 3
   },
   "file_extension": ".py",
   "mimetype": "text/x-python",
   "name": "python",
   "nbconvert_exporter": "python",
   "pygments_lexer": "ipython3",
   "version": "3.5.6"
  }
 },
 "nbformat": 4,
 "nbformat_minor": 1
}
